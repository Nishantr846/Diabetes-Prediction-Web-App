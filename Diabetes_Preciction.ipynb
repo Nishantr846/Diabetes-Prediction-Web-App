{
 "cells": [
  {
   "cell_type": "code",
   "execution_count": 12,
   "id": "b1e86f6a-9eb5-4973-be80-9b94cb67d4ec",
   "metadata": {},
   "outputs": [
    {
     "name": "stdout",
     "output_type": "stream",
     "text": [
      "Enter the following health metrics:\n"
     ]
    },
    {
     "name": "stdin",
     "output_type": "stream",
     "text": [
      "Number of Pregnancies:  1\n",
      "Glucose Level:  103\n",
      "Blood Pressure Value:  30\n",
      "Skin Thickness Value:  38\n",
      "Insulin Level:  83\n",
      "BMI Value:  43.3\n",
      "Diabetes Pedigree Function Value:  0.183\n",
      "Age:  33\n"
     ]
    },
    {
     "name": "stdout",
     "output_type": "stream",
     "text": [
      "\n",
      "The person is NOT diabetic.\n"
     ]
    },
    {
     "name": "stderr",
     "output_type": "stream",
     "text": [
      "C:\\ProgramData\\anaconda3\\Lib\\site-packages\\sklearn\\base.py:439: UserWarning: X does not have valid feature names, but SVC was fitted with feature names\n",
      "  warnings.warn(\n"
     ]
    }
   ],
   "source": [
    "# Importing the dependencies\n",
    "import numpy as np\n",
    "import pandas as pd\n",
    "from sklearn.model_selection import train_test_split\n",
    "from sklearn import svm\n",
    "\n",
    "# Load the data\n",
    "data = pd.read_csv('diabetes.csv')\n",
    "\n",
    "# Separate features and target\n",
    "X = data.drop(columns='Outcome', axis=1)\n",
    "Y = data['Outcome']\n",
    "\n",
    "# Split the data into training and test sets\n",
    "X_train, X_test, Y_train, Y_test = train_test_split(\n",
    "    X, Y, test_size=0.1, stratify=Y, random_state=1\n",
    ")\n",
    "\n",
    "# Train the SVM model\n",
    "model = svm.SVC(kernel='linear')\n",
    "model.fit(X_train, Y_train)\n",
    "\n",
    "# Function to make predictions based on user input\n",
    "def predict_diabetes():\n",
    "    print(\"Enter the following health metrics:\")\n",
    "    Pregnancies = float(input(\"Number of Pregnancies: \"))\n",
    "    Glucose = float(input(\"Glucose Level: \"))\n",
    "    BloodPressure = float(input(\"Blood Pressure Value: \"))\n",
    "    SkinThickness = float(input(\"Skin Thickness Value: \"))\n",
    "    Insulin = float(input(\"Insulin Level: \"))\n",
    "    BMI = float(input(\"BMI Value: \"))\n",
    "    DiabetesPedigreeFunction = float(input(\"Diabetes Pedigree Function Value: \"))\n",
    "    Age = float(input(\"Age: \"))\n",
    "\n",
    "    # Create an array of the input data\n",
    "    input_data = np.array([\n",
    "        Pregnancies, Glucose, BloodPressure, SkinThickness,\n",
    "        Insulin, BMI, DiabetesPedigreeFunction, Age\n",
    "    ])\n",
    "    \n",
    "    # Reshape the array for a single prediction\n",
    "    input_data_reshaped = input_data.reshape(1, -1)\n",
    "    \n",
    "    # Predict using the trained model\n",
    "    prediction = model.predict(input_data_reshaped)\n",
    "    \n",
    "    if prediction[0] == 0:\n",
    "        print(\"\\nThe person is NOT diabetic.\")\n",
    "    else:\n",
    "        print(\"\\nThe person IS diabetic.\")\n",
    "\n",
    "# Call the function for user input and prediction\n",
    "predict_diabetes()\n"
   ]
  },
  {
   "cell_type": "code",
   "execution_count": null,
   "id": "3e343708-f9d4-43ea-9dd6-db40075a575c",
   "metadata": {},
   "outputs": [
    {
     "name": "stdout",
     "output_type": "stream",
     "text": [
      "Enter the following health metrics:\n"
     ]
    }
   ],
   "source": [
    "#Saving the trained model\n",
    "import pickle\n",
    "\n",
    "filename = 'trained_model.sav'\n",
    "pickle.dump(model, open(filename, 'wb'))\n",
    "\n",
    "# Loading the saved model\n",
    "loaded_model = pickle.load(open('trained_model.sav', 'rb'))\n",
    "\n",
    "def predict_diabetes():\n",
    "    print(\"Enter the following health metrics:\")\n",
    "    Pregnancies = float(input(\"Number of Pregnancies: \"))\n",
    "    Glucose = float(input(\"Glucose Level: \"))\n",
    "    BloodPressure = float(input(\"Blood Pressure Value: \"))\n",
    "    SkinThickness = float(input(\"Skin Thickness Value: \"))\n",
    "    Insulin = float(input(\"Insulin Level: \"))\n",
    "    BMI = float(input(\"BMI Value: \"))\n",
    "    DiabetesPedigreeFunction = float(input(\"Diabetes Pedigree Function Value: \"))\n",
    "    Age = float(input(\"Age: \"))\n",
    "\n",
    "    # Create an array of the input data\n",
    "    input_data = np.array([\n",
    "        Pregnancies, Glucose, BloodPressure, SkinThickness,\n",
    "        Insulin, BMI, DiabetesPedigreeFunction, Age\n",
    "    ])\n",
    "    \n",
    "    # Reshape the array for a single prediction\n",
    "    input_data_reshaped = input_data.reshape(1, -1)\n",
    "    \n",
    "    # Predict using the trained model\n",
    "    prediction = loaded_model.predict(input_data_reshaped)\n",
    "    \n",
    "    if prediction[0] == 0:\n",
    "        print(\"\\nThe person is NOT diabetic.\")\n",
    "    else:\n",
    "        print(\"\\nThe person IS diabetic.\")\n",
    "\n",
    "# Call the function for user input and prediction\n",
    "predict_diabetes()"
   ]
  },
  {
   "cell_type": "code",
   "execution_count": null,
   "id": "b37be428-b49e-4d9b-9586-1298bed4c473",
   "metadata": {},
   "outputs": [],
   "source": []
  }
 ],
 "metadata": {
  "kernelspec": {
   "display_name": "Python 3 (ipykernel)",
   "language": "python",
   "name": "python3"
  },
  "language_info": {
   "codemirror_mode": {
    "name": "ipython",
    "version": 3
   },
   "file_extension": ".py",
   "mimetype": "text/x-python",
   "name": "python",
   "nbconvert_exporter": "python",
   "pygments_lexer": "ipython3",
   "version": "3.11.7"
  }
 },
 "nbformat": 4,
 "nbformat_minor": 5
}
